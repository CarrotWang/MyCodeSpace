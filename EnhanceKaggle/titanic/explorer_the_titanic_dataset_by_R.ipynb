{
 "cells": [
  {
   "cell_type": "markdown",
   "metadata": {},
   "source": [
    "RefLink:https://www.kaggle.com/mrisdal/titanic/exploring-survival-on-the-titanic"
   ]
  },
  {
   "cell_type": "code",
   "execution_count": 6,
   "metadata": {
    "collapsed": false
   },
   "outputs": [],
   "source": [
    "# Load packages\n",
    "library('ggplot2') # visualization\n",
    "library('ggthemes') # visualization\n",
    "library('scales') # visualization\n",
    "library('dplyr') # data manipulation\n",
    "library('mice') # imputation\n",
    "library('randomForest') # classification algorithm"
   ]
  },
  {
   "cell_type": "code",
   "execution_count": 8,
   "metadata": {
    "collapsed": true
   },
   "outputs": [],
   "source": [
    "train <- read.csv(\"/media/reallocing/本地磁盘1/KDD2015/Dataset/titanic/train.csv\",stringsAsFactors= F)\n",
    "test <- read.csv(\"/media/reallocing/本地磁盘1/KDD2015/Dataset/titanic/test.csv\",stringsAsFactors= F)\n",
    "full <- bind_rows(train,test) #bind train and test data."
   ]
  },
  {
   "cell_type": "code",
   "execution_count": 15,
   "metadata": {
    "collapsed": false
   },
   "outputs": [
    {
     "data": {
      "text/html": [
       "<table>\n",
       "<thead><tr><th></th><th scope=col>PassengerId</th><th scope=col>Survived</th><th scope=col>Pclass</th><th scope=col>Name</th><th scope=col>Sex</th><th scope=col>Age</th><th scope=col>SibSp</th><th scope=col>Parch</th><th scope=col>Ticket</th><th scope=col>Fare</th><th scope=col>Cabin</th><th scope=col>Embarked</th></tr></thead>\n",
       "<tbody>\n",
       "\t<tr><th scope=row>1</th><td>1                      </td><td>0                      </td><td>3                      </td><td>Braund, Mr. Owen Harris</td><td>male                   </td><td>22                     </td><td>1                      </td><td>0                      </td><td>A/5 21171              </td><td>7.25                   </td><td>                       </td><td>S                      </td></tr>\n",
       "\t<tr><th scope=row>2</th><td>2                                                  </td><td>1                                                  </td><td>1                                                  </td><td>Cumings, Mrs. John Bradley (Florence Briggs Thayer)</td><td>female                                             </td><td>38                                                 </td><td>1                                                  </td><td>0                                                  </td><td>PC 17599                                           </td><td>71.2833                                            </td><td>C85                                                </td><td>C                                                  </td></tr>\n",
       "\t<tr><th scope=row>3</th><td>3                     </td><td>1                     </td><td>3                     </td><td>Heikkinen, Miss. Laina</td><td>female                </td><td>26                    </td><td>0                     </td><td>0                     </td><td>STON/O2. 3101282      </td><td>7.925                 </td><td>                      </td><td>S                     </td></tr>\n",
       "\t<tr><th scope=row>4</th><td>4                                           </td><td>1                                           </td><td>1                                           </td><td>Futrelle, Mrs. Jacques Heath (Lily May Peel)</td><td>female                                      </td><td>35                                          </td><td>1                                           </td><td>0                                           </td><td>113803                                      </td><td>53.1                                        </td><td>C123                                        </td><td>S                                           </td></tr>\n",
       "\t<tr><th scope=row>5</th><td>5                       </td><td>0                       </td><td>3                       </td><td>Allen, Mr. William Henry</td><td>male                    </td><td>35                      </td><td>0                       </td><td>0                       </td><td>373450                  </td><td>8.05                    </td><td>                        </td><td>S                       </td></tr>\n",
       "\t<tr><th scope=row>6</th><td>6               </td><td>0               </td><td>3               </td><td>Moran, Mr. James</td><td>male            </td><td>NA              </td><td>0               </td><td>0               </td><td>330877          </td><td>8.4583          </td><td>                </td><td>Q               </td></tr>\n",
       "</tbody>\n",
       "</table>\n"
      ],
      "text/latex": [
       "\\begin{tabular}{r|llllllllllll}\n",
       "  & PassengerId & Survived & Pclass & Name & Sex & Age & SibSp & Parch & Ticket & Fare & Cabin & Embarked\\\\\n",
       "\\hline\n",
       "\t1 & 1                       & 0                       & 3                       & Braund, Mr. Owen Harris & male                    & 22                      & 1                       & 0                       & A/5 21171               & 7.25                    &                         & S                      \\\\\n",
       "\t2 & 2                                                   & 1                                                   & 1                                                   & Cumings, Mrs. John Bradley (Florence Briggs Thayer) & female                                              & 38                                                  & 1                                                   & 0                                                   & PC 17599                                            & 71.2833                                             & C85                                                 & C                                                  \\\\\n",
       "\t3 & 3                      & 1                      & 3                      & Heikkinen, Miss. Laina & female                 & 26                     & 0                      & 0                      & STON/O2. 3101282       & 7.925                  &                        & S                     \\\\\n",
       "\t4 & 4                                            & 1                                            & 1                                            & Futrelle, Mrs. Jacques Heath (Lily May Peel) & female                                       & 35                                           & 1                                            & 0                                            & 113803                                       & 53.1                                         & C123                                         & S                                           \\\\\n",
       "\t5 & 5                        & 0                        & 3                        & Allen, Mr. William Henry & male                     & 35                       & 0                        & 0                        & 373450                   & 8.05                     &                          & S                       \\\\\n",
       "\t6 & 6                & 0                & 3                & Moran, Mr. James & male             & NA               & 0                & 0                & 330877           & 8.4583           &                  & Q               \\\\\n",
       "\\end{tabular}\n"
      ],
      "text/plain": [
       "  PassengerId Survived Pclass\n",
       "1           1        0      3\n",
       "2           2        1      1\n",
       "3           3        1      3\n",
       "4           4        1      1\n",
       "5           5        0      3\n",
       "6           6        0      3\n",
       "                                                 Name    Sex Age SibSp Parch\n",
       "1                             Braund, Mr. Owen Harris   male  22     1     0\n",
       "2 Cumings, Mrs. John Bradley (Florence Briggs Thayer) female  38     1     0\n",
       "3                              Heikkinen, Miss. Laina female  26     0     0\n",
       "4        Futrelle, Mrs. Jacques Heath (Lily May Peel) female  35     1     0\n",
       "5                            Allen, Mr. William Henry   male  35     0     0\n",
       "6                                    Moran, Mr. James   male  NA     0     0\n",
       "            Ticket    Fare Cabin Embarked\n",
       "1        A/5 21171  7.2500              S\n",
       "2         PC 17599 71.2833   C85        C\n",
       "3 STON/O2. 3101282  7.9250              S\n",
       "4           113803 53.1000  C123        S\n",
       "5           373450  8.0500              S\n",
       "6           330877  8.4583              Q"
      ]
     },
     "execution_count": 15,
     "metadata": {},
     "output_type": "execute_result"
    },
    {
     "data": {
      "text/html": [
       "<table>\n",
       "<thead><tr><th></th><th scope=col>PassengerId</th><th scope=col>Pclass</th><th scope=col>Name</th><th scope=col>Sex</th><th scope=col>Age</th><th scope=col>SibSp</th><th scope=col>Parch</th><th scope=col>Ticket</th><th scope=col>Fare</th><th scope=col>Cabin</th><th scope=col>Embarked</th></tr></thead>\n",
       "<tbody>\n",
       "\t<tr><th scope=row>1</th><td>892             </td><td>3               </td><td>Kelly, Mr. James</td><td>male            </td><td>34.5            </td><td>0               </td><td>0               </td><td>330911          </td><td>7.8292          </td><td>                </td><td>Q               </td></tr>\n",
       "\t<tr><th scope=row>2</th><td>893                             </td><td>3                               </td><td>Wilkes, Mrs. James (Ellen Needs)</td><td>female                          </td><td>47                              </td><td>1                               </td><td>0                               </td><td>363272                          </td><td>7                               </td><td>                                </td><td>S                               </td></tr>\n",
       "\t<tr><th scope=row>3</th><td>894                      </td><td>2                        </td><td>Myles, Mr. Thomas Francis</td><td>male                     </td><td>62                       </td><td>0                        </td><td>0                        </td><td>240276                   </td><td>9.6875                   </td><td>                         </td><td>Q                        </td></tr>\n",
       "\t<tr><th scope=row>4</th><td>895             </td><td>3               </td><td>Wirz, Mr. Albert</td><td>male            </td><td>27              </td><td>0               </td><td>0               </td><td>315154          </td><td>8.6625          </td><td>                </td><td>S               </td></tr>\n",
       "\t<tr><th scope=row>5</th><td>896                                         </td><td>3                                           </td><td>Hirvonen, Mrs. Alexander (Helga E Lindqvist)</td><td>female                                      </td><td>22                                          </td><td>1                                           </td><td>1                                           </td><td>3101298                                     </td><td>12.2875                                     </td><td>                                            </td><td>S                                           </td></tr>\n",
       "\t<tr><th scope=row>6</th><td>897                       </td><td>3                         </td><td>Svensson, Mr. Johan Cervin</td><td>male                      </td><td>14                        </td><td>0                         </td><td>0                         </td><td>7538                      </td><td>9.225                     </td><td>                          </td><td>S                         </td></tr>\n",
       "</tbody>\n",
       "</table>\n"
      ],
      "text/latex": [
       "\\begin{tabular}{r|lllllllllll}\n",
       "  & PassengerId & Pclass & Name & Sex & Age & SibSp & Parch & Ticket & Fare & Cabin & Embarked\\\\\n",
       "\\hline\n",
       "\t1 & 892              & 3                & Kelly, Mr. James & male             & 34.5             & 0                & 0                & 330911           & 7.8292           &                  & Q               \\\\\n",
       "\t2 & 893                              & 3                                & Wilkes, Mrs. James (Ellen Needs) & female                           & 47                               & 1                                & 0                                & 363272                           & 7                                &                                  & S                               \\\\\n",
       "\t3 & 894                       & 2                         & Myles, Mr. Thomas Francis & male                      & 62                        & 0                         & 0                         & 240276                    & 9.6875                    &                           & Q                        \\\\\n",
       "\t4 & 895              & 3                & Wirz, Mr. Albert & male             & 27               & 0                & 0                & 315154           & 8.6625           &                  & S               \\\\\n",
       "\t5 & 896                                          & 3                                            & Hirvonen, Mrs. Alexander (Helga E Lindqvist) & female                                       & 22                                           & 1                                            & 1                                            & 3101298                                      & 12.2875                                      &                                              & S                                           \\\\\n",
       "\t6 & 897                        & 3                          & Svensson, Mr. Johan Cervin & male                       & 14                         & 0                          & 0                          & 7538                       & 9.225                      &                            & S                         \\\\\n",
       "\\end{tabular}\n"
      ],
      "text/plain": [
       "  PassengerId Pclass                                         Name    Sex  Age\n",
       "1         892      3                             Kelly, Mr. James   male 34.5\n",
       "2         893      3             Wilkes, Mrs. James (Ellen Needs) female 47.0\n",
       "3         894      2                    Myles, Mr. Thomas Francis   male 62.0\n",
       "4         895      3                             Wirz, Mr. Albert   male 27.0\n",
       "5         896      3 Hirvonen, Mrs. Alexander (Helga E Lindqvist) female 22.0\n",
       "6         897      3                   Svensson, Mr. Johan Cervin   male 14.0\n",
       "  SibSp Parch  Ticket    Fare Cabin Embarked\n",
       "1     0     0  330911  7.8292              Q\n",
       "2     1     0  363272  7.0000              S\n",
       "3     0     0  240276  9.6875              Q\n",
       "4     0     0  315154  8.6625              S\n",
       "5     1     1 3101298 12.2875              S\n",
       "6     0     0    7538  9.2250              S"
      ]
     },
     "execution_count": 15,
     "metadata": {},
     "output_type": "execute_result"
    },
    {
     "data": {
      "text/html": [
       "<table>\n",
       "<thead><tr><th></th><th scope=col>PassengerId</th><th scope=col>Survived</th><th scope=col>Pclass</th><th scope=col>Name</th><th scope=col>Sex</th><th scope=col>Age</th><th scope=col>SibSp</th><th scope=col>Parch</th><th scope=col>Ticket</th><th scope=col>Fare</th><th scope=col>Cabin</th><th scope=col>Embarked</th></tr></thead>\n",
       "<tbody>\n",
       "\t<tr><th scope=row>1</th><td>1                      </td><td>0                      </td><td>3                      </td><td>Braund, Mr. Owen Harris</td><td>male                   </td><td>22                     </td><td>1                      </td><td>0                      </td><td>A/5 21171              </td><td>7.25                   </td><td>                       </td><td>S                      </td></tr>\n",
       "\t<tr><th scope=row>2</th><td>2                                                  </td><td>1                                                  </td><td>1                                                  </td><td>Cumings, Mrs. John Bradley (Florence Briggs Thayer)</td><td>female                                             </td><td>38                                                 </td><td>1                                                  </td><td>0                                                  </td><td>PC 17599                                           </td><td>71.2833                                            </td><td>C85                                                </td><td>C                                                  </td></tr>\n",
       "\t<tr><th scope=row>3</th><td>3                     </td><td>1                     </td><td>3                     </td><td>Heikkinen, Miss. Laina</td><td>female                </td><td>26                    </td><td>0                     </td><td>0                     </td><td>STON/O2. 3101282      </td><td>7.925                 </td><td>                      </td><td>S                     </td></tr>\n",
       "\t<tr><th scope=row>4</th><td>4                                           </td><td>1                                           </td><td>1                                           </td><td>Futrelle, Mrs. Jacques Heath (Lily May Peel)</td><td>female                                      </td><td>35                                          </td><td>1                                           </td><td>0                                           </td><td>113803                                      </td><td>53.1                                        </td><td>C123                                        </td><td>S                                           </td></tr>\n",
       "\t<tr><th scope=row>5</th><td>5                       </td><td>0                       </td><td>3                       </td><td>Allen, Mr. William Henry</td><td>male                    </td><td>35                      </td><td>0                       </td><td>0                       </td><td>373450                  </td><td>8.05                    </td><td>                        </td><td>S                       </td></tr>\n",
       "\t<tr><th scope=row>6</th><td>6               </td><td>0               </td><td>3               </td><td>Moran, Mr. James</td><td>male            </td><td>NA              </td><td>0               </td><td>0               </td><td>330877          </td><td>8.4583          </td><td>                </td><td>Q               </td></tr>\n",
       "</tbody>\n",
       "</table>\n"
      ],
      "text/latex": [
       "\\begin{tabular}{r|llllllllllll}\n",
       "  & PassengerId & Survived & Pclass & Name & Sex & Age & SibSp & Parch & Ticket & Fare & Cabin & Embarked\\\\\n",
       "\\hline\n",
       "\t1 & 1                       & 0                       & 3                       & Braund, Mr. Owen Harris & male                    & 22                      & 1                       & 0                       & A/5 21171               & 7.25                    &                         & S                      \\\\\n",
       "\t2 & 2                                                   & 1                                                   & 1                                                   & Cumings, Mrs. John Bradley (Florence Briggs Thayer) & female                                              & 38                                                  & 1                                                   & 0                                                   & PC 17599                                            & 71.2833                                             & C85                                                 & C                                                  \\\\\n",
       "\t3 & 3                      & 1                      & 3                      & Heikkinen, Miss. Laina & female                 & 26                     & 0                      & 0                      & STON/O2. 3101282       & 7.925                  &                        & S                     \\\\\n",
       "\t4 & 4                                            & 1                                            & 1                                            & Futrelle, Mrs. Jacques Heath (Lily May Peel) & female                                       & 35                                           & 1                                            & 0                                            & 113803                                       & 53.1                                         & C123                                         & S                                           \\\\\n",
       "\t5 & 5                        & 0                        & 3                        & Allen, Mr. William Henry & male                     & 35                       & 0                        & 0                        & 373450                   & 8.05                     &                          & S                       \\\\\n",
       "\t6 & 6                & 0                & 3                & Moran, Mr. James & male             & NA               & 0                & 0                & 330877           & 8.4583           &                  & Q               \\\\\n",
       "\\end{tabular}\n"
      ],
      "text/plain": [
       "Source: local data frame [6 x 12]\n",
       "\n",
       "  PassengerId Survived Pclass\n",
       "        (int)    (int)  (int)\n",
       "1           1        0      3\n",
       "2           2        1      1\n",
       "3           3        1      3\n",
       "4           4        1      1\n",
       "5           5        0      3\n",
       "6           6        0      3\n",
       "Variables not shown: Name (chr), Sex (chr), Age (dbl), SibSp (int), Parch\n",
       "  (int), Ticket (chr), Fare (dbl), Cabin (chr), Embarked (chr)"
      ]
     },
     "execution_count": 15,
     "metadata": {},
     "output_type": "execute_result"
    },
    {
     "data": {
      "text/html": [
       "'tail(test)'"
      ],
      "text/latex": [
       "'tail(test)'"
      ],
      "text/markdown": [
       "'tail(test)'"
      ],
      "text/plain": [
       "[1] \"tail(test)\""
      ]
     },
     "execution_count": 15,
     "metadata": {},
     "output_type": "execute_result"
    },
    {
     "data": {
      "text/html": [
       "<table>\n",
       "<thead><tr><th></th><th scope=col>PassengerId</th><th scope=col>Pclass</th><th scope=col>Name</th><th scope=col>Sex</th><th scope=col>Age</th><th scope=col>SibSp</th><th scope=col>Parch</th><th scope=col>Ticket</th><th scope=col>Fare</th><th scope=col>Cabin</th><th scope=col>Embarked</th></tr></thead>\n",
       "<tbody>\n",
       "\t<tr><th scope=row>413</th><td>1304                          </td><td>3                             </td><td>Henriksson, Miss. Jenny Lovisa</td><td>female                        </td><td>28                            </td><td>0                             </td><td>0                             </td><td>347086                        </td><td>7.775                         </td><td>                              </td><td>S                             </td></tr>\n",
       "\t<tr><th scope=row>414</th><td>1305              </td><td>3                 </td><td>Spector, Mr. Woolf</td><td>male              </td><td>NA                </td><td>0                 </td><td>0                 </td><td>A.5. 3236         </td><td>8.05              </td><td>                  </td><td>S                 </td></tr>\n",
       "\t<tr><th scope=row>415</th><td>1306                        </td><td>1                           </td><td>Oliva y Ocana, Dona. Fermina</td><td>female                      </td><td>39                          </td><td>0                           </td><td>0                           </td><td>PC 17758                    </td><td>108.9                       </td><td>C105                        </td><td>C                           </td></tr>\n",
       "\t<tr><th scope=row>416</th><td>1307                        </td><td>3                           </td><td>Saether, Mr. Simon Sivertsen</td><td>male                        </td><td>38.5                        </td><td>0                           </td><td>0                           </td><td>SOTON/O.Q. 3101262          </td><td>7.25                        </td><td>                            </td><td>S                           </td></tr>\n",
       "\t<tr><th scope=row>417</th><td>1308               </td><td>3                  </td><td>Ware, Mr. Frederick</td><td>male               </td><td>NA                 </td><td>0                  </td><td>0                  </td><td>359309             </td><td>8.05               </td><td>                   </td><td>S                  </td></tr>\n",
       "\t<tr><th scope=row>418</th><td>1309                    </td><td>3                       </td><td>Peter, Master. Michael J</td><td>male                    </td><td>NA                      </td><td>1                       </td><td>1                       </td><td>2668                    </td><td>22.3583                 </td><td>                        </td><td>C                       </td></tr>\n",
       "</tbody>\n",
       "</table>\n"
      ],
      "text/latex": [
       "\\begin{tabular}{r|lllllllllll}\n",
       "  & PassengerId & Pclass & Name & Sex & Age & SibSp & Parch & Ticket & Fare & Cabin & Embarked\\\\\n",
       "\\hline\n",
       "\t413 & 1304                           & 3                              & Henriksson, Miss. Jenny Lovisa & female                         & 28                             & 0                              & 0                              & 347086                         & 7.775                          &                                & S                             \\\\\n",
       "\t414 & 1305               & 3                  & Spector, Mr. Woolf & male               & NA                 & 0                  & 0                  & A.5. 3236          & 8.05               &                    & S                 \\\\\n",
       "\t415 & 1306                         & 1                            & Oliva y Ocana, Dona. Fermina & female                       & 39                           & 0                            & 0                            & PC 17758                     & 108.9                        & C105                         & C                           \\\\\n",
       "\t416 & 1307                         & 3                            & Saether, Mr. Simon Sivertsen & male                         & 38.5                         & 0                            & 0                            & SOTON/O.Q. 3101262           & 7.25                         &                              & S                           \\\\\n",
       "\t417 & 1308                & 3                   & Ware, Mr. Frederick & male                & NA                  & 0                   & 0                   & 359309              & 8.05                &                     & S                  \\\\\n",
       "\t418 & 1309                     & 3                        & Peter, Master. Michael J & male                     & NA                       & 1                        & 1                        & 2668                     & 22.3583                  &                          & C                       \\\\\n",
       "\\end{tabular}\n"
      ],
      "text/plain": [
       "    PassengerId Pclass                           Name    Sex  Age SibSp Parch\n",
       "413        1304      3 Henriksson, Miss. Jenny Lovisa female 28.0     0     0\n",
       "414        1305      3             Spector, Mr. Woolf   male   NA     0     0\n",
       "415        1306      1   Oliva y Ocana, Dona. Fermina female 39.0     0     0\n",
       "416        1307      3   Saether, Mr. Simon Sivertsen   male 38.5     0     0\n",
       "417        1308      3            Ware, Mr. Frederick   male   NA     0     0\n",
       "418        1309      3       Peter, Master. Michael J   male   NA     1     1\n",
       "                Ticket     Fare Cabin Embarked\n",
       "413             347086   7.7750              S\n",
       "414          A.5. 3236   8.0500              S\n",
       "415           PC 17758 108.9000  C105        C\n",
       "416 SOTON/O.Q. 3101262   7.2500              S\n",
       "417             359309   8.0500              S\n",
       "418               2668  22.3583              C"
      ]
     },
     "execution_count": 15,
     "metadata": {},
     "output_type": "execute_result"
    },
    {
     "data": {
      "text/html": [
       "'tail(full)'"
      ],
      "text/latex": [
       "'tail(full)'"
      ],
      "text/markdown": [
       "'tail(full)'"
      ],
      "text/plain": [
       "[1] \"tail(full)\""
      ]
     },
     "execution_count": 15,
     "metadata": {},
     "output_type": "execute_result"
    },
    {
     "data": {
      "text/html": [
       "<table>\n",
       "<thead><tr><th></th><th scope=col>PassengerId</th><th scope=col>Survived</th><th scope=col>Pclass</th><th scope=col>Name</th><th scope=col>Sex</th><th scope=col>Age</th><th scope=col>SibSp</th><th scope=col>Parch</th><th scope=col>Ticket</th><th scope=col>Fare</th><th scope=col>Cabin</th><th scope=col>Embarked</th></tr></thead>\n",
       "<tbody>\n",
       "\t<tr><th scope=row>1</th><td>1304                          </td><td>NA                            </td><td>3                             </td><td>Henriksson, Miss. Jenny Lovisa</td><td>female                        </td><td>28                            </td><td>0                             </td><td>0                             </td><td>347086                        </td><td>7.775                         </td><td>                              </td><td>S                             </td></tr>\n",
       "\t<tr><th scope=row>2</th><td>1305              </td><td>NA                </td><td>3                 </td><td>Spector, Mr. Woolf</td><td>male              </td><td>NA                </td><td>0                 </td><td>0                 </td><td>A.5. 3236         </td><td>8.05              </td><td>                  </td><td>S                 </td></tr>\n",
       "\t<tr><th scope=row>3</th><td>1306                        </td><td>NA                          </td><td>1                           </td><td>Oliva y Ocana, Dona. Fermina</td><td>female                      </td><td>39                          </td><td>0                           </td><td>0                           </td><td>PC 17758                    </td><td>108.9                       </td><td>C105                        </td><td>C                           </td></tr>\n",
       "\t<tr><th scope=row>4</th><td>1307                        </td><td>NA                          </td><td>3                           </td><td>Saether, Mr. Simon Sivertsen</td><td>male                        </td><td>38.5                        </td><td>0                           </td><td>0                           </td><td>SOTON/O.Q. 3101262          </td><td>7.25                        </td><td>                            </td><td>S                           </td></tr>\n",
       "\t<tr><th scope=row>5</th><td>1308               </td><td>NA                 </td><td>3                  </td><td>Ware, Mr. Frederick</td><td>male               </td><td>NA                 </td><td>0                  </td><td>0                  </td><td>359309             </td><td>8.05               </td><td>                   </td><td>S                  </td></tr>\n",
       "\t<tr><th scope=row>6</th><td>1309                    </td><td>NA                      </td><td>3                       </td><td>Peter, Master. Michael J</td><td>male                    </td><td>NA                      </td><td>1                       </td><td>1                       </td><td>2668                    </td><td>22.3583                 </td><td>                        </td><td>C                       </td></tr>\n",
       "</tbody>\n",
       "</table>\n"
      ],
      "text/latex": [
       "\\begin{tabular}{r|llllllllllll}\n",
       "  & PassengerId & Survived & Pclass & Name & Sex & Age & SibSp & Parch & Ticket & Fare & Cabin & Embarked\\\\\n",
       "\\hline\n",
       "\t1 & 1304                           & NA                             & 3                              & Henriksson, Miss. Jenny Lovisa & female                         & 28                             & 0                              & 0                              & 347086                         & 7.775                          &                                & S                             \\\\\n",
       "\t2 & 1305               & NA                 & 3                  & Spector, Mr. Woolf & male               & NA                 & 0                  & 0                  & A.5. 3236          & 8.05               &                    & S                 \\\\\n",
       "\t3 & 1306                         & NA                           & 1                            & Oliva y Ocana, Dona. Fermina & female                       & 39                           & 0                            & 0                            & PC 17758                     & 108.9                        & C105                         & C                           \\\\\n",
       "\t4 & 1307                         & NA                           & 3                            & Saether, Mr. Simon Sivertsen & male                         & 38.5                         & 0                            & 0                            & SOTON/O.Q. 3101262           & 7.25                         &                              & S                           \\\\\n",
       "\t5 & 1308                & NA                  & 3                   & Ware, Mr. Frederick & male                & NA                  & 0                   & 0                   & 359309              & 8.05                &                     & S                  \\\\\n",
       "\t6 & 1309                     & NA                       & 3                        & Peter, Master. Michael J & male                     & NA                       & 1                        & 1                        & 2668                     & 22.3583                  &                          & C                       \\\\\n",
       "\\end{tabular}\n"
      ],
      "text/plain": [
       "Source: local data frame [6 x 12]\n",
       "\n",
       "  PassengerId Survived Pclass                           Name    Sex   Age SibSp\n",
       "        (int)    (int)  (int)                          (chr)  (chr) (dbl) (int)\n",
       "1        1304       NA      3 Henriksson, Miss. Jenny Lovisa female  28.0     0\n",
       "2        1305       NA      3             Spector, Mr. Woolf   male    NA     0\n",
       "3        1306       NA      1   Oliva y Ocana, Dona. Fermina female  39.0     0\n",
       "4        1307       NA      3   Saether, Mr. Simon Sivertsen   male  38.5     0\n",
       "5        1308       NA      3            Ware, Mr. Frederick   male    NA     0\n",
       "6        1309       NA      3       Peter, Master. Michael J   male    NA     1\n",
       "Variables not shown: Parch (int), Ticket (chr), Fare (dbl), Cabin (chr),\n",
       "  Embarked (chr)"
      ]
     },
     "execution_count": 15,
     "metadata": {},
     "output_type": "execute_result"
    }
   ],
   "source": [
    "head(train)\n",
    "head(test)\n",
    "head(full)\n",
    "paste('tail(test)')\n",
    "tail(test)\n",
    "paste('tail(full)')\n",
    "tail(full)"
   ]
  },
  {
   "cell_type": "code",
   "execution_count": 16,
   "metadata": {
    "collapsed": false
   },
   "outputs": [
    {
     "name": "stdout",
     "output_type": "stream",
     "text": [
      "Classes ‘tbl_df’, ‘tbl’ and 'data.frame':\t1309 obs. of  12 variables:\n",
      " $ PassengerId: int  1 2 3 4 5 6 7 8 9 10 ...\n",
      " $ Survived   : int  0 1 1 1 0 0 0 0 1 1 ...\n",
      " $ Pclass     : int  3 1 3 1 3 3 1 3 3 2 ...\n",
      " $ Name       : chr  \"Braund, Mr. Owen Harris\" \"Cumings, Mrs. John Bradley (Florence Briggs Thayer)\" \"Heikkinen, Miss. Laina\" \"Futrelle, Mrs. Jacques Heath (Lily May Peel)\" ...\n",
      " $ Sex        : chr  \"male\" \"female\" \"female\" \"female\" ...\n",
      " $ Age        : num  22 38 26 35 35 NA 54 2 27 14 ...\n",
      " $ SibSp      : int  1 1 0 1 0 0 0 3 0 1 ...\n",
      " $ Parch      : int  0 0 0 0 0 0 0 1 2 0 ...\n",
      " $ Ticket     : chr  \"A/5 21171\" \"PC 17599\" \"STON/O2. 3101282\" \"113803\" ...\n",
      " $ Fare       : num  7.25 71.28 7.92 53.1 8.05 ...\n",
      " $ Cabin      : chr  \"\" \"C85\" \"\" \"C123\" ...\n",
      " $ Embarked   : chr  \"S\" \"C\" \"S\" \"S\" ...\n"
     ]
    }
   ],
   "source": [
    "str(full)  #check data"
   ]
  },
  {
   "cell_type": "code",
   "execution_count": 23,
   "metadata": {
    "collapsed": false
   },
   "outputs": [
    {
     "data": {
      "text/html": [
       "80"
      ],
      "text/latex": [
       "80"
      ],
      "text/markdown": [
       "80"
      ],
      "text/plain": [
       "[1] 80"
      ]
     },
     "execution_count": 23,
     "metadata": {},
     "output_type": "execute_result"
    }
   ],
   "source": []
  },
  {
   "cell_type": "code",
   "execution_count": null,
   "metadata": {
    "collapsed": true
   },
   "outputs": [],
   "source": []
  },
  {
   "cell_type": "code",
   "execution_count": null,
   "metadata": {
    "collapsed": true
   },
   "outputs": [],
   "source": []
  },
  {
   "cell_type": "code",
   "execution_count": null,
   "metadata": {
    "collapsed": true
   },
   "outputs": [],
   "source": []
  },
  {
   "cell_type": "code",
   "execution_count": null,
   "metadata": {
    "collapsed": true
   },
   "outputs": [],
   "source": []
  },
  {
   "cell_type": "code",
   "execution_count": null,
   "metadata": {
    "collapsed": true
   },
   "outputs": [],
   "source": []
  },
  {
   "cell_type": "code",
   "execution_count": null,
   "metadata": {
    "collapsed": true
   },
   "outputs": [],
   "source": []
  },
  {
   "cell_type": "code",
   "execution_count": null,
   "metadata": {
    "collapsed": true
   },
   "outputs": [],
   "source": []
  },
  {
   "cell_type": "code",
   "execution_count": null,
   "metadata": {
    "collapsed": true
   },
   "outputs": [],
   "source": []
  },
  {
   "cell_type": "code",
   "execution_count": null,
   "metadata": {
    "collapsed": true
   },
   "outputs": [],
   "source": []
  },
  {
   "cell_type": "code",
   "execution_count": null,
   "metadata": {
    "collapsed": true
   },
   "outputs": [],
   "source": []
  },
  {
   "cell_type": "code",
   "execution_count": null,
   "metadata": {
    "collapsed": true
   },
   "outputs": [],
   "source": []
  },
  {
   "cell_type": "code",
   "execution_count": null,
   "metadata": {
    "collapsed": true
   },
   "outputs": [],
   "source": []
  },
  {
   "cell_type": "code",
   "execution_count": null,
   "metadata": {
    "collapsed": true
   },
   "outputs": [],
   "source": []
  },
  {
   "cell_type": "code",
   "execution_count": null,
   "metadata": {
    "collapsed": true
   },
   "outputs": [],
   "source": []
  },
  {
   "cell_type": "code",
   "execution_count": null,
   "metadata": {
    "collapsed": true
   },
   "outputs": [],
   "source": []
  },
  {
   "cell_type": "code",
   "execution_count": null,
   "metadata": {
    "collapsed": true
   },
   "outputs": [],
   "source": []
  }
 ],
 "metadata": {
  "kernelspec": {
   "display_name": "R",
   "language": "R",
   "name": "ir"
  },
  "language_info": {
   "codemirror_mode": "r",
   "file_extension": ".r",
   "mimetype": "text/x-r-source",
   "name": "R",
   "pygments_lexer": "r",
   "version": "3.1.2"
  }
 },
 "nbformat": 4,
 "nbformat_minor": 0
}
