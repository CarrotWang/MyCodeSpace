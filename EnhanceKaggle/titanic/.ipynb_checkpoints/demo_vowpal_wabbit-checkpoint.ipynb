{
 "cells": [
  {
   "cell_type": "markdown",
   "metadata": {},
   "source": [
    "#### RefLink:http://mlwave.com/tutorial-titanic-machine-learning-from-distaster/\n",
    "使用工具vowpal wabbit来进行预测;\n"
   ]
  },
  {
   "cell_type": "markdown",
   "metadata": {},
   "source": [
    "## 1.install Vowpal Wabbit\n",
    "### -- Get libboost program-options and zlib:\n",
    "apt-get install libboost-program-options-dev zlib1g-dev\n",
    "\n",
    "### -- Get the python libboost bindings (python subdir) - optional:\n",
    "apt-get install libboost-python-dev\n",
    "\n",
    "### -- Get the vw source:\n",
    "git clone git://github.com/JohnLangford/vowpal_wabbit.git\n",
    "\n",
    "### -- Build:\n",
    "cd vowpal_wabbit    \n",
    "make    \n",
    "make test       # (optional)    \n",
    "sudo make install \n",
    "\n",
    "报错:::当导入pyvw时报错!!!\n",
    "\n",
    "---\n",
    "http://stackoverflow.com/questions/32156970/how-to-install-vowpal-wabbit-python-interface    --Good    \n",
    "\n",
    "I was able to successfully install the Python interface to VW using the following steps. Note that this is on an Ubuntu 14.04 machine with Anaconda Python 2.7.10.\n",
    "\n",
    "Prerequisites: Boost & miscellaneous Python development libraries:\n",
    "> sudo apt-get install libboost-all-dev   \n",
    "> sudo apt-get install python-dev libxml2-dev libxslt-dev  \n",
    "\n",
    "git clone the Vowpal Wabbit repo & enter the python directory.\n",
    "make Vowpal Wabbit & test your installation using python test.py.\n",
    "import pyvw should work from within a Python console as well.\n",
    "还是报错!!!!!!!!!!!\n",
    "\n"
   ]
  },
  {
   "cell_type": "markdown",
   "metadata": {},
   "source": [
    "## 2.初步尝试vowpal wabbit\n",
    "- read the documentation on Github ( see https://github.com/JohnLangford/vowpal_wabbit/wiki ) . \n",
    "- There are also tutorials available at https://github.com/JohnLangford/vowpal_wabbit/wiki/Tutorial\n",
    "- http://www.slideshare.net/pauldix/terascale-learning\n",
    "- http://www.slideshare.net/jakehofman/technical-tricks-of-vowpal-wabbit .\n",
    "- maintains a good blog and covers some aspects of VW at http://fastml.com/large-scale-l1-feature-selection-with-vowpal-wabbit/\n",
    "\n",
    "- https://github.com/mokelly/wabbit_wappa#getting-started (Wabbit Wappa is a full-featured Python wrapper for the lightning fast Vowpal Wabbit (\"VW\") machine learning utility. Wabbit Wappa makes it easier to use VW's powerful features while abstracting away its idiosyncratic syntax and interface.)----很不错的样子"
   ]
  },
  {
   "cell_type": "code",
   "execution_count": 10,
   "metadata": {
    "collapsed": false
   },
   "outputs": [],
   "source": [
    "from wabbit_wappa import *"
   ]
  },
  {
   "cell_type": "code",
   "execution_count": 11,
   "metadata": {
    "collapsed": true
   },
   "outputs": [],
   "source": [
    "vw = VW(loss_function='logistic')"
   ]
  },
  {
   "cell_type": "code",
   "execution_count": 12,
   "metadata": {
    "collapsed": false
   },
   "outputs": [
    {
     "name": "stdout",
     "output_type": "stream",
     "text": [
      "vw --save_resume --quiet --loss_function logistic --predictions /dev/stdout\n"
     ]
    }
   ],
   "source": [
    "print vw.command"
   ]
  },
  {
   "cell_type": "code",
   "execution_count": 20,
   "metadata": {
    "collapsed": false
   },
   "outputs": [
    {
     "name": "stdout",
     "output_type": "stream",
     "text": [
      "Help on package wabbit_wappa:\n",
      "\n",
      "NAME\n",
      "    wabbit_wappa - # -*- coding: utf-8 -*-\n",
      "\n",
      "FILE\n",
      "    /home/reallocing/.local/lib/python2.7/site-packages/wabbit_wappa/__init__.py\n",
      "\n",
      "PACKAGE CONTENTS\n",
      "    active_interactor\n",
      "    active_learner\n",
      "\n",
      "CLASSES\n",
      "    exceptions.ValueError(exceptions.StandardError)\n",
      "        WabbitInvalidCharacter\n",
      "    Namespace\n",
      "    VW\n",
      "    VWResult\n",
      "    \n",
      "    class Namespace\n",
      "     |  Abstraction of Namespace part of VW example lines\n",
      "     |  \n",
      "     |  Methods defined here:\n",
      "     |  \n",
      "     |  __init__(self, name=None, scale=None, features=None, escape=True, validate=True, cache_string=False)\n",
      "     |      Create a namespace with given (optional) name and importance,\n",
      "     |      initialized with any given features (described in add_features()).\n",
      "     |      If 'validate', name and features are validated for compatibility\n",
      "     |          with VW's reserved characters, throwing a WabbitInvalidCharacter\n",
      "     |          exception.\n",
      "     |      If 'escape', any invalid characters are replaced with escape characters.\n",
      "     |          ('escape' mode supersedes 'vaildate' mode.)\n",
      "     |      If 'cache_string', the results of any to_string() call are cached\n",
      "     |          permanently, ignoring any further changes to self.  (This can\n",
      "     |          speed things up if this Namespace is re-used.)\n",
      "     |  \n",
      "     |  add_feature(self, label, value=None)\n",
      "     |      label: A VW label (not containing characters from escape_dict.keys(),\n",
      "     |          unless 'escape' mode is on)\n",
      "     |      value: float giving the weight or magnitude of this feature\n",
      "     |  \n",
      "     |  add_features(self, features)\n",
      "     |      Add features to this namespace.\n",
      "     |      features: An iterable of features.  A feature may be either\n",
      "     |          1) A VW label (not containing characters from escape_dict.keys(),\n",
      "     |              unless 'escape' mode is on)\n",
      "     |          2) A tuple (label, value) where value is any float\n",
      "     |  \n",
      "     |  export_features(self, delimiter=u'\\\\')\n",
      "     |      Export the features from this namespace as a list of feature tokens\n",
      "     |      with the namespace name prepended (delimited by 'delimiter').\n",
      "     |      \n",
      "     |      Example:\n",
      "     |      >>> namespace = Namespace('name1', features=['feature1', 'feature2'])\n",
      "     |      >>> print namespace.export_features()\n",
      "     |      ['name1\\feature1', 'name1\\feature2']\n",
      "     |  \n",
      "     |  to_string(self)\n",
      "     |      Export this namespace to a string suitable for incorporation\n",
      "     |      in a VW example line, e.g.\n",
      "     |      'MetricFeatures:3.28 height:1.5 length:2.0 '\n",
      "    \n",
      "    class VW\n",
      "     |  Wrapper for VW executable, handling online input and outputs.\n",
      "     |  \n",
      "     |  Methods defined here:\n",
      "     |  \n",
      "     |  __init__(self, command=None, active_mode=False, dummy_mode=False, **kwargs)\n",
      "     |      'command' is the full command-line necessary to run VW.  E.g.\n",
      "     |      vw --loss_function logistic -p /dev/stdout --quiet\n",
      "     |      -p /dev/stdout --quiet is mandatory for compatibility,\n",
      "     |      and certain options like \n",
      "     |          --save_resume\n",
      "     |      are suggested, while some options make no sense in this context:\n",
      "     |          -d\n",
      "     |          --passes\n",
      "     |      wabbit_wappa.py does not support any mode that turns off piping to\n",
      "     |      stdin or stdout\n",
      "     |      \n",
      "     |      active_mode: Launch VW in port-listening active learning mode, controlled via\n",
      "     |          a simulated subprocess.\n",
      "     |      dummy_mode: Don't actually start any VW process.  (Used for assembling\n",
      "     |          VW command lines separately.)\n",
      "     |      \n",
      "     |      If no command is given, any additional keyword arguments are passed to\n",
      "     |          make_command_line() and the resulting command is used.  (This provides\n",
      "     |          sensible defaults.)\n",
      "     |  \n",
      "     |  add_namespace(self, *args, **kwargs)\n",
      "     |      Accepts two calling patterns:\n",
      "     |      add_namespace(namespace): queue a preexisting namespace onto\n",
      "     |          this VW instance.\n",
      "     |      add_namespace(name, scale, features, ...): Pass all args and kwargs\n",
      "     |          to the Namespace constructor to make a new Namespace instance,\n",
      "     |          and queue it to this VW instance.\n",
      "     |      \n",
      "     |      Returns self (so that this command can be chained).\n",
      "     |  \n",
      "     |  add_namespaces(self, namespaces)\n",
      "     |      Add these namespaces sequentially.\n",
      "     |      Returns self (so that this command can be chained).\n",
      "     |  \n",
      "     |  close(self)\n",
      "     |      Shut down the VW process.\n",
      "     |  \n",
      "     |  get_prediction(self, features=None, tag=None, namespaces=None)\n",
      "     |      Send an unlabeled example to the trained VW instance.\n",
      "     |      Uses any given features or namespaces, as well as any previously\n",
      "     |      added namespaces (using them up in the process).\n",
      "     |      \n",
      "     |      Returns a VWResult object.\n",
      "     |  \n",
      "     |  make_line(self, response=None, importance=None, base=None, tag=None, features=None, namespaces=None)\n",
      "     |      Makes and returns an example string in VW syntax.\n",
      "     |      If given, 'response', 'importance', 'base', and 'tag' are used\n",
      "     |      to label the example.  Features for the example come from\n",
      "     |      any given features or namespaces, as well as any previously\n",
      "     |      added namespaces (using them up in the process).\n",
      "     |  \n",
      "     |  save_model(self, model_filename)\n",
      "     |      Pass a \"command example\" to the VW subprocess requesting\n",
      "     |      that the current model be serialized to model_filename immediately.\n",
      "     |  \n",
      "     |  send_example(self, *args, **kwargs)\n",
      "     |      Send a labeled or unlabeled example to the VW instance.\n",
      "     |      If 'parse_result' kwarg is False, ignore the result and return None.\n",
      "     |      \n",
      "     |      All other parameters are passed to self.send_line().\n",
      "     |      \n",
      "     |      Returns a VWResult object.\n",
      "     |  \n",
      "     |  send_line(self, line, parse_result=True)\n",
      "     |      Submit a raw line of text to the VW instance, returning a \n",
      "     |      VWResult() object.\n",
      "     |      \n",
      "     |      If 'parse_result' is False, ignore the result and return None.\n",
      "    \n",
      "    class VWResult\n",
      "     |  Parses VW string output into consistent structure\n",
      "     |  \n",
      "     |  Methods defined here:\n",
      "     |  \n",
      "     |  __init__(self, result_string, active_mode=False)\n",
      "     |      Set 'active_mode' to True to parse results in\n",
      "     |      an Active Learning context.\n",
      "     |  \n",
      "     |  __str__(self)\n",
      "    \n",
      "    class WabbitInvalidCharacter(exceptions.ValueError)\n",
      "     |  Method resolution order:\n",
      "     |      WabbitInvalidCharacter\n",
      "     |      exceptions.ValueError\n",
      "     |      exceptions.StandardError\n",
      "     |      exceptions.Exception\n",
      "     |      exceptions.BaseException\n",
      "     |      __builtin__.object\n",
      "     |  \n",
      "     |  Data descriptors defined here:\n",
      "     |  \n",
      "     |  __weakref__\n",
      "     |      list of weak references to the object (if defined)\n",
      "     |  \n",
      "     |  ----------------------------------------------------------------------\n",
      "     |  Methods inherited from exceptions.ValueError:\n",
      "     |  \n",
      "     |  __init__(...)\n",
      "     |      x.__init__(...) initializes x; see help(type(x)) for signature\n",
      "     |  \n",
      "     |  ----------------------------------------------------------------------\n",
      "     |  Data and other attributes inherited from exceptions.ValueError:\n",
      "     |  \n",
      "     |  __new__ = <built-in method __new__ of type object>\n",
      "     |      T.__new__(S, ...) -> a new object with type S, a subtype of T\n",
      "     |  \n",
      "     |  ----------------------------------------------------------------------\n",
      "     |  Methods inherited from exceptions.BaseException:\n",
      "     |  \n",
      "     |  __delattr__(...)\n",
      "     |      x.__delattr__('name') <==> del x.name\n",
      "     |  \n",
      "     |  __getattribute__(...)\n",
      "     |      x.__getattribute__('name') <==> x.name\n",
      "     |  \n",
      "     |  __getitem__(...)\n",
      "     |      x.__getitem__(y) <==> x[y]\n",
      "     |  \n",
      "     |  __getslice__(...)\n",
      "     |      x.__getslice__(i, j) <==> x[i:j]\n",
      "     |      \n",
      "     |      Use of negative indices is not supported.\n",
      "     |  \n",
      "     |  __reduce__(...)\n",
      "     |  \n",
      "     |  __repr__(...)\n",
      "     |      x.__repr__() <==> repr(x)\n",
      "     |  \n",
      "     |  __setattr__(...)\n",
      "     |      x.__setattr__('name', value) <==> x.name = value\n",
      "     |  \n",
      "     |  __setstate__(...)\n",
      "     |  \n",
      "     |  __str__(...)\n",
      "     |      x.__str__() <==> str(x)\n",
      "     |  \n",
      "     |  __unicode__(...)\n",
      "     |  \n",
      "     |  ----------------------------------------------------------------------\n",
      "     |  Data descriptors inherited from exceptions.BaseException:\n",
      "     |  \n",
      "     |  __dict__\n",
      "     |  \n",
      "     |  args\n",
      "     |  \n",
      "     |  message\n",
      "\n",
      "FUNCTIONS\n",
      "    escape_vw_character(special_character_re_match)\n",
      "    \n",
      "    escape_vw_string(s)\n",
      "    \n",
      "    make_command_line(predictions=u'/dev/stdout', quiet=True, save_resume=True, q_colon=None, **kwargs)\n",
      "        Construct a command line for VW, with each named argument corresponding\n",
      "        to a VW option.\n",
      "        Single character keys are mapped to single-dash options,\n",
      "        e.g. 'b=20' yields '-b 20',\n",
      "        while multiple character keys map to double-dash options:\n",
      "            'quiet=True' yields '--quiet'\n",
      "        Boolean values are interpreted as flags: present if True, absent if False.\n",
      "        All other values are treated as option arguments, as in the -b example above.\n",
      "        If an option argument is a list, that option is repeated multiple times,\n",
      "        e.g. 'q=['ab', 'bc']' yields '-q ab -q bc'\n",
      "        \n",
      "        q_colon is handled specially, mapping to '--q:'.\n",
      "        \n",
      "        Run 'vw -h' for a listing of most options.\n",
      "        \n",
      "        Defaults are well-suited for use with Wabbit Wappa:\n",
      "        vw --predictions /dev/stdout --quiet --save_resume\n",
      "        \n",
      "        NOTE: This function makes no attempt to validate the inputs or\n",
      "        ensure they are compatible with Wabbit Wappa.\n",
      "        \n",
      "        Outputs a command line string.\n",
      "    \n",
      "    validate_vw_string(s)\n",
      "        Throw a WabbitInvalidCharacter exception if the string is\n",
      "        not a \n",
      "        (http://stats.stackexchange.com/questions/28877/finding-the-best-features-in-interaction-models)\n",
      "\n",
      "DATA\n",
      "    __author__ = u\"Michael J.T. O'Kelly\"\n",
      "    __email__ = u'mokelly@gmail.com'\n",
      "    __version__ = u'0.3.0'\n",
      "    absolute_import = _Feature((2, 5, 0, 'alpha', 1), (3, 0, 0, 'alpha', 0...\n",
      "    division = _Feature((2, 2, 0, 'alpha', 2), (3, 0, 0, 'alpha', 0), 8192...\n",
      "    escape_dict = {u' ': u'\\\\_', u':': u'\\\\;', u'|': u'\\\\\\\\'}\n",
      "    print_function = _Feature((2, 6, 0, 'alpha', 2), (3, 0, 0, 'alpha', 0)...\n",
      "    unicode_literals = _Feature((2, 6, 0, 'alpha', 2), (3, 0, 0, 'alpha', ...\n",
      "    validation_regex = <_sre.SRE_Pattern object>\n",
      "\n",
      "VERSION\n",
      "    0.3.0\n",
      "\n",
      "AUTHOR\n",
      "    Michael J.T. O'Kelly\n",
      "\n",
      "\n"
     ]
    }
   ],
   "source": [
    "import wabbit_wappa\n",
    "help(wabbit_wappa)"
   ]
  },
  {
   "cell_type": "code",
   "execution_count": 18,
   "metadata": {
    "collapsed": true
   },
   "outputs": [],
   "source": []
  },
  {
   "cell_type": "code",
   "execution_count": 19,
   "metadata": {
    "collapsed": false
   },
   "outputs": [
    {
     "ename": "OSError",
     "evalue": "[Errno 9] Bad file descriptor",
     "output_type": "error",
     "traceback": [
      "\u001b[1;31m---------------------------------------------------------------------------\u001b[0m",
      "\u001b[1;31mOSError\u001b[0m                                   Traceback (most recent call last)",
      "\u001b[1;32m<ipython-input-19-f5b34623e9b6>\u001b[0m in \u001b[0;36m<module>\u001b[1;34m()\u001b[0m\n\u001b[0;32m      1\u001b[0m \u001b[1;32mfor\u001b[0m \u001b[0mi\u001b[0m \u001b[1;32min\u001b[0m \u001b[0mrange\u001b[0m\u001b[1;33m(\u001b[0m\u001b[1;36m10\u001b[0m\u001b[1;33m)\u001b[0m\u001b[1;33m:\u001b[0m\u001b[1;33m\u001b[0m\u001b[0m\n\u001b[0;32m      2\u001b[0m     \u001b[0mlabel\u001b[0m\u001b[1;33m,\u001b[0m \u001b[0mfeatures\u001b[0m \u001b[1;33m=\u001b[0m \u001b[0mget_example\u001b[0m\u001b[1;33m(\u001b[0m\u001b[1;33m)\u001b[0m  \u001b[1;31m# Random example; see capitalization_demo.py\u001b[0m\u001b[1;33m\u001b[0m\u001b[0m\n\u001b[1;32m----> 3\u001b[1;33m     \u001b[0mvw\u001b[0m\u001b[1;33m.\u001b[0m\u001b[0msend_example\u001b[0m\u001b[1;33m(\u001b[0m\u001b[0mlabel\u001b[0m\u001b[1;33m,\u001b[0m \u001b[0mfeatures\u001b[0m\u001b[1;33m=\u001b[0m\u001b[0mfeatures\u001b[0m\u001b[1;33m)\u001b[0m\u001b[1;33m\u001b[0m\u001b[0m\n\u001b[0m",
      "\u001b[1;32m/home/reallocing/.local/lib/python2.7/site-packages/wabbit_wappa/__init__.pyc\u001b[0m in \u001b[0;36msend_example\u001b[1;34m(self, *args, **kwargs)\u001b[0m\n\u001b[0;32m    288\u001b[0m         \u001b[0mparse_result\u001b[0m \u001b[1;33m=\u001b[0m \u001b[0mkwargs\u001b[0m\u001b[1;33m.\u001b[0m\u001b[0mpop\u001b[0m\u001b[1;33m(\u001b[0m\u001b[1;34m'parse_result'\u001b[0m\u001b[1;33m,\u001b[0m \u001b[0mTrue\u001b[0m\u001b[1;33m)\u001b[0m\u001b[1;33m\u001b[0m\u001b[0m\n\u001b[0;32m    289\u001b[0m         \u001b[0mline\u001b[0m \u001b[1;33m=\u001b[0m \u001b[0mself\u001b[0m\u001b[1;33m.\u001b[0m\u001b[0mmake_line\u001b[0m\u001b[1;33m(\u001b[0m\u001b[1;33m*\u001b[0m\u001b[0margs\u001b[0m\u001b[1;33m,\u001b[0m \u001b[1;33m**\u001b[0m\u001b[0mkwargs\u001b[0m\u001b[1;33m)\u001b[0m\u001b[1;33m\u001b[0m\u001b[0m\n\u001b[1;32m--> 290\u001b[1;33m         \u001b[0mresult\u001b[0m \u001b[1;33m=\u001b[0m \u001b[0mself\u001b[0m\u001b[1;33m.\u001b[0m\u001b[0msend_line\u001b[0m\u001b[1;33m(\u001b[0m\u001b[0mline\u001b[0m\u001b[1;33m,\u001b[0m \u001b[0mparse_result\u001b[0m\u001b[1;33m=\u001b[0m\u001b[0mparse_result\u001b[0m\u001b[1;33m)\u001b[0m\u001b[1;33m\u001b[0m\u001b[0m\n\u001b[0m\u001b[0;32m    291\u001b[0m         \u001b[1;32mreturn\u001b[0m \u001b[0mresult\u001b[0m\u001b[1;33m\u001b[0m\u001b[0m\n\u001b[0;32m    292\u001b[0m \u001b[1;33m\u001b[0m\u001b[0m\n",
      "\u001b[1;32m/home/reallocing/.local/lib/python2.7/site-packages/wabbit_wappa/__init__.pyc\u001b[0m in \u001b[0;36msend_line\u001b[1;34m(self, line, parse_result)\u001b[0m\n\u001b[0;32m    257\u001b[0m         \u001b[0mIf\u001b[0m \u001b[1;34m'parse_result'\u001b[0m \u001b[1;32mis\u001b[0m \u001b[0mFalse\u001b[0m\u001b[1;33m,\u001b[0m \u001b[0mignore\u001b[0m \u001b[0mthe\u001b[0m \u001b[0mresult\u001b[0m \u001b[1;32mand\u001b[0m \u001b[1;32mreturn\u001b[0m \u001b[0mNone\u001b[0m\u001b[1;33m.\u001b[0m\u001b[1;33m\u001b[0m\u001b[0m\n\u001b[0;32m    258\u001b[0m         \"\"\"\n\u001b[1;32m--> 259\u001b[1;33m         \u001b[0mself\u001b[0m\u001b[1;33m.\u001b[0m\u001b[0mvw_process\u001b[0m\u001b[1;33m.\u001b[0m\u001b[0msendline\u001b[0m\u001b[1;33m(\u001b[0m\u001b[0mline\u001b[0m\u001b[1;33m)\u001b[0m  \u001b[1;31m# Send line, along with newline\u001b[0m\u001b[1;33m\u001b[0m\u001b[0m\n\u001b[0m\u001b[0;32m    260\u001b[0m         \u001b[0mresult\u001b[0m \u001b[1;33m=\u001b[0m \u001b[0mself\u001b[0m\u001b[1;33m.\u001b[0m\u001b[0m_get_response\u001b[0m\u001b[1;33m(\u001b[0m\u001b[0mparse_result\u001b[0m\u001b[1;33m=\u001b[0m\u001b[0mparse_result\u001b[0m\u001b[1;33m)\u001b[0m\u001b[1;33m\u001b[0m\u001b[0m\n\u001b[0;32m    261\u001b[0m         \u001b[1;32mreturn\u001b[0m \u001b[0mresult\u001b[0m\u001b[1;33m\u001b[0m\u001b[0m\n",
      "\u001b[1;32m/home/reallocing/.local/lib/python2.7/site-packages/pexpect/pty_spawn.pyc\u001b[0m in \u001b[0;36msendline\u001b[1;34m(self, s)\u001b[0m\n\u001b[0;32m    522\u001b[0m         '''\n\u001b[0;32m    523\u001b[0m \u001b[1;33m\u001b[0m\u001b[0m\n\u001b[1;32m--> 524\u001b[1;33m         \u001b[0mn\u001b[0m \u001b[1;33m=\u001b[0m \u001b[0mself\u001b[0m\u001b[1;33m.\u001b[0m\u001b[0msend\u001b[0m\u001b[1;33m(\u001b[0m\u001b[0ms\u001b[0m\u001b[1;33m)\u001b[0m\u001b[1;33m\u001b[0m\u001b[0m\n\u001b[0m\u001b[0;32m    525\u001b[0m         \u001b[0mn\u001b[0m \u001b[1;33m=\u001b[0m \u001b[0mn\u001b[0m \u001b[1;33m+\u001b[0m \u001b[0mself\u001b[0m\u001b[1;33m.\u001b[0m\u001b[0msend\u001b[0m\u001b[1;33m(\u001b[0m\u001b[0mself\u001b[0m\u001b[1;33m.\u001b[0m\u001b[0mlinesep\u001b[0m\u001b[1;33m)\u001b[0m\u001b[1;33m\u001b[0m\u001b[0m\n\u001b[0;32m    526\u001b[0m         \u001b[1;32mreturn\u001b[0m \u001b[0mn\u001b[0m\u001b[1;33m\u001b[0m\u001b[0m\n",
      "\u001b[1;32m/home/reallocing/.local/lib/python2.7/site-packages/pexpect/pty_spawn.pyc\u001b[0m in \u001b[0;36msend\u001b[1;34m(self, s)\u001b[0m\n\u001b[0;32m    513\u001b[0m \u001b[1;33m\u001b[0m\u001b[0m\n\u001b[0;32m    514\u001b[0m         \u001b[0mb\u001b[0m \u001b[1;33m=\u001b[0m \u001b[0mself\u001b[0m\u001b[1;33m.\u001b[0m\u001b[0m_encoder\u001b[0m\u001b[1;33m.\u001b[0m\u001b[0mencode\u001b[0m\u001b[1;33m(\u001b[0m\u001b[0ms\u001b[0m\u001b[1;33m,\u001b[0m \u001b[0mfinal\u001b[0m\u001b[1;33m=\u001b[0m\u001b[0mFalse\u001b[0m\u001b[1;33m)\u001b[0m\u001b[1;33m\u001b[0m\u001b[0m\n\u001b[1;32m--> 515\u001b[1;33m         \u001b[1;32mreturn\u001b[0m \u001b[0mos\u001b[0m\u001b[1;33m.\u001b[0m\u001b[0mwrite\u001b[0m\u001b[1;33m(\u001b[0m\u001b[0mself\u001b[0m\u001b[1;33m.\u001b[0m\u001b[0mchild_fd\u001b[0m\u001b[1;33m,\u001b[0m \u001b[0mb\u001b[0m\u001b[1;33m)\u001b[0m\u001b[1;33m\u001b[0m\u001b[0m\n\u001b[0m\u001b[0;32m    516\u001b[0m \u001b[1;33m\u001b[0m\u001b[0m\n\u001b[0;32m    517\u001b[0m     \u001b[1;32mdef\u001b[0m \u001b[0msendline\u001b[0m\u001b[1;33m(\u001b[0m\u001b[0mself\u001b[0m\u001b[1;33m,\u001b[0m \u001b[0ms\u001b[0m\u001b[1;33m=\u001b[0m\u001b[1;34m''\u001b[0m\u001b[1;33m)\u001b[0m\u001b[1;33m:\u001b[0m\u001b[1;33m\u001b[0m\u001b[0m\n",
      "\u001b[1;31mOSError\u001b[0m: [Errno 9] Bad file descriptor"
     ]
    }
   ],
   "source": [
    "for i in range(10):\n",
    "    label, features = get_example()  # Random example; see capitalization_demo.py\n",
    "    vw.send_example(label, features=features)"
   ]
  },
  {
   "cell_type": "code",
   "execution_count": null,
   "metadata": {
    "collapsed": true
   },
   "outputs": [],
   "source": []
  },
  {
   "cell_type": "code",
   "execution_count": null,
   "metadata": {
    "collapsed": true
   },
   "outputs": [],
   "source": []
  },
  {
   "cell_type": "code",
   "execution_count": null,
   "metadata": {
    "collapsed": true
   },
   "outputs": [],
   "source": []
  },
  {
   "cell_type": "code",
   "execution_count": null,
   "metadata": {
    "collapsed": true
   },
   "outputs": [],
   "source": []
  },
  {
   "cell_type": "code",
   "execution_count": null,
   "metadata": {
    "collapsed": true
   },
   "outputs": [],
   "source": []
  },
  {
   "cell_type": "code",
   "execution_count": null,
   "metadata": {
    "collapsed": true
   },
   "outputs": [],
   "source": []
  },
  {
   "cell_type": "code",
   "execution_count": null,
   "metadata": {
    "collapsed": true
   },
   "outputs": [],
   "source": []
  }
 ],
 "metadata": {
  "kernelspec": {
   "display_name": "Python 2",
   "language": "python",
   "name": "python2"
  },
  "language_info": {
   "codemirror_mode": {
    "name": "ipython",
    "version": 2
   },
   "file_extension": ".py",
   "mimetype": "text/x-python",
   "name": "python",
   "nbconvert_exporter": "python",
   "pygments_lexer": "ipython2",
   "version": "2.7.9"
  }
 },
 "nbformat": 4,
 "nbformat_minor": 0
}
